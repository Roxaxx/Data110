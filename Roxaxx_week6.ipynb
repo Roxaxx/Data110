{
  "nbformat": 4,
  "nbformat_minor": 0,
  "metadata": {
    "colab": {
      "provenance": [],
      "authorship_tag": "ABX9TyNNYxwmJx3p5FZIQNWSC4Fm",
      "include_colab_link": true
    },
    "kernelspec": {
      "name": "python3",
      "display_name": "Python 3"
    },
    "language_info": {
      "name": "python"
    }
  },
  "cells": [
    {
      "cell_type": "markdown",
      "metadata": {
        "id": "view-in-github",
        "colab_type": "text"
      },
      "source": [
        "<a href=\"https://colab.research.google.com/github/Roxaxx/Data110/blob/main/Roxaxx_week6.ipynb\" target=\"_parent\"><img src=\"https://colab.research.google.com/assets/colab-badge.svg\" alt=\"Open In Colab\"/></a>"
      ]
    },
    {
      "cell_type": "code",
      "execution_count": null,
      "metadata": {
        "id": "BGHouGsN-Zga"
      },
      "outputs": [],
      "source": [
        "##Setting Up Your Environment\n",
        "\n",
        "1.Install any necessary packages\n"
      ]
    },
    {
      "cell_type": "code",
      "source": [
        "!pip install rpy2\n",
        "!pip install joypy\n",
        "\n"
      ],
      "metadata": {
        "id": "8_leJoLM_szx"
      },
      "execution_count": null,
      "outputs": []
    },
    {
      "cell_type": "markdown",
      "source": [
        "2. Import the required libraries"
      ],
      "metadata": {
        "id": "40rGuyLTA3WZ"
      }
    },
    {
      "cell_type": "code",
      "source": [
        "import pandas as pd\n",
        "import seaborn as sns\n",
        "import matplotlib.pyplot as plt\n",
        "import numpy as np\n",
        "from joypy import joyplot"
      ],
      "metadata": {
        "id": "aRqc8YsCBsZ5"
      },
      "execution_count": null,
      "outputs": []
    },
    {
      "cell_type": "markdown",
      "source": [
        "Part 2: Load and Explore the Dataset\n",
        "\n",
        "  1. Load the Palmer Penquins dataset:\n",
        "\n",
        "  url = https://raw.githubusercontent.com/mwaskom/seaborn-data/master/penguins.csv\n"
      ],
      "metadata": {
        "id": "DMCH_AMmCFqs"
      }
    },
    {
      "cell_type": "code",
      "source": [],
      "metadata": {
        "id": "GQBSt9dyDhHS"
      },
      "execution_count": null,
      "outputs": []
    }
  ]
}